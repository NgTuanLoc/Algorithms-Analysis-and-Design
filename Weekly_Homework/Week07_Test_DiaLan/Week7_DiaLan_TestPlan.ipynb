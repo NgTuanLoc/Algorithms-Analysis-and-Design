{
 "cells": [
  {
   "cell_type": "markdown",
   "metadata": {},
   "source": [
    "# Ý TƯỞNG\n",
    "\n",
    "Vì a_i <2^12 => Chỉ cần tối đa 12 bit để biểu diễn a_i.\n",
    "Mà đề bài yêu cầu AND k số để bằng 0.\n",
    "Suy ra:\n",
    "\n",
    "- Với k<=12: Duyệt các tổ hợp chập k của n sao cho chúng AND nhau bằng 0. => O(k.n)\n",
    "\n",
    "- Với k>12: AND cả mảng a (gồm n phần tử) và xét xem có bằng 0 không. => O(n)\n",
    "\n",
    "# TEST PLAN\n",
    "\n",
    "Các test Negative xét input $a_i$ khoảng [2048,4095] vì chúng:\n",
    "+ đều là các số biểu diễn nhị phân với số bit tối đa (12 bit) => Test Time Complexity Worst case.\n",
    "+ đều bắt đầu bằng 1 vì 2048 = 2<sup>11</sup> và 4095 = 2<sup>12</sup>-1 và cùng số bit (12 bit)\n",
    "=> AND nhau luôn khác 0.\n",
    "\n",
    "Các test Negative như test 13 và test 15 xét input $a_i$ có dạng $2^j$-1 (1$\\leq$j$\\leq$12) vì chúng:\n",
    "+ đều chỉ chứa số 1 ở dạng nhị phân => AND nhau luôn khác 0.\n",
    "+ test trường hợp chỉ xét chữ số đầu tiên là 1 hay không.\n",
    "\n",
    "\n",
    "| # |Pseudo INPUT | OUTPUT | MEANING | Time Complexity |\n",
    "| :-: | :-- | :-: | :-- | :-: |\n",
    "| 1 | 3 2<br/>5 4 3 | YES | Test của đề bài | O(k.n) |\n",
    "| 2 | 1 1<br/>0 | YES | Biên nhỏ nhất - Positive | O(k.n) |\n",
    "| 3 | 1 1<br/>1 | NO | Biên nhỏ nhất - Negative | O(k.n) |\n",
    "| 4 | 200000 200000<br/>randint(\\[0,4095] in range(199999)) 0 | YES | Biên lớn nhất - Positive | O(n) |\n",
    "| 5 | 200000 200000<br/>randint(\\[2048,4095] in range(200000)) | NO | Biên lớn nhất - Negative | O(n) |\n",
    "| 6 | 13 200000<br/>randint([0,4095] in range(199999)) 0| YES | Average case - Positive<br/>n max, k =13<br/> | O(n) |\n",
    "| 7 | 13 200000<br/>randint([2048,4095] in range(200000)) |NO| Average case - Negative<br/>n max, k =13| O(n) |\n",
    "| 8 | 2 200000<br/>randint([0,4095] in range(199999)) 0|YES| Average case - Positive<br/>n max, k = 2<br/>Vét cạn tổ hợp chập 2 của 200000|O(k.n)\n",
    "| 9 | 2 200000<br/>randint([2048,4095] in range(200000)) |NO| Average case - Negative<br/>n max, k = 2<br/>Vét cạn tổ hợp chập 2 của 200000|O(k.n)\n",
    "| 10 | 12 200000<br/>randint([0,4095] in range(199999)) 0| YES | Worst case - Positive<br/>Vét cạn tổ hợp chập 12 của 200000| O(k.n)|\n",
    "| 11 | 12 200000<br/>randint([2048,4095] in range(200000)) |NO| Worst case - Negative<br/>Vét cạn tổ hợp chập 12 của 200000| O(k.n)|\n",
    "| 12 | 2 200000<br/>randint([1,4095] in range(199998)) 3 4092|YES| Như test 8 nhưng test thêm với input khác 0 không nhưng vẫn AND nhau bằng 0 (3&4092 = 0)<br/>n max, k = 2<br/>Vét cạn tổ hợp chập 2 của 200000|O(k.n)\n",
    "| 13 | 2 200000<br/>a_i = random.choice([4095, 2047, 1023, 511, 255, 127, 63, 31, 15, 7, 3, 1]) (i = 1 -> 200000) |NO|Như test 9 nhưng test với input có dạng $2^i$-1 (1$\\leq$i$\\leq$12)<br/>n max, k = 2<br/>Vét cạn tổ hợp chập 2 của 200000|O(k.n)\n",
    "| 14 | 12 200000<br/>randint([1,4095] in range(199998)) 4093 2 |YES|Như test 10 nhưng test thêm với input KHÁC 0<br/>n max, k = 12<br/>Vét cạn tổ hợp chập 12 của 200000|O(k.n)\n",
    "| 15 | 12 200000<br/>a_i = random.choice([4095, 2047, 1023, 511, 255, 127, 63, 31, 15, 7, 3, 1]) (i = 1 -> 200000)|NO|Như test 11 nhưng với input có dạng $2^i$-1 (1$\\leq$i$\\leq$12)<br/>n max, k = 12<br/>Vét cạn tổ hợp chập 12 của 200000|O(k.n)"
   ]
  },
  {
   "cell_type": "code",
   "execution_count": null,
   "metadata": {},
   "outputs": [],
   "source": []
  }
 ],
 "metadata": {
  "kernelspec": {
   "display_name": "Python 3",
   "language": "python",
   "name": "python3"
  },
  "language_info": {
   "codemirror_mode": {
    "name": "ipython",
    "version": 3
   },
   "file_extension": ".py",
   "mimetype": "text/x-python",
   "name": "python",
   "nbconvert_exporter": "python",
   "pygments_lexer": "ipython3",
   "version": "3.7.6"
  }
 },
 "nbformat": 4,
 "nbformat_minor": 4
}
