{
 "cells": [
  {
   "cell_type": "markdown",
   "metadata": {},
   "source": [
    "# PROBLEM\n",
    "\n",
    "![SoNguyenMoi.png](SoNguyenMoi.png)\n",
    "\n",
    "# ABSTRACTION\n",
    "\n",
    "<em>Dựa vào số nguyên n dương cho trước, thay đổi 1 chữ số thành một số m mới sao cho:</em>\n",
    "<ul>\n",
    "    <li>m Là số nguyên lớn nhất</li>\n",
    "    <li>m Chia hết cho 3</li>    \n",
    "</ul>\n",
    "   "
   ]
  },
  {
   "cell_type": "markdown",
   "metadata": {},
   "source": [
    "<!DOCTYPE html>\n",
    "<html lang=\"vi\">\n",
    "<head>\n",
    "    <meta charset=\"UTF-8\">\n",
    "    <meta name=\"viewport\" content=\"width=device-width, initial-scale=1.0\">\n",
    "    <title>Document</title>\n",
    "</head>\n",
    "<body>\n",
    "    <h1>DECOMPOSITION </h1>\n",
    "    <p>Trong bài này ta có thể dễ dàng nhận chia ra làm 2 bài toán nhỏ hơn là</p>\n",
    "    <ul>\n",
    "        <li>Tìm các số chia hết cho 3</li>\n",
    "        <li>Tìm số lớn nhất trong các số đã tìm được ở trên</li>\n",
    "    </ul>\n",
    "    <h1>PATTERN RECOGNITION</h1>\n",
    "    <p><b>- Algorithm: </b>Brute Force</p>\n",
    "    <p><b>- Input:</b> Số nguyên dương n hợp lệ có không quá 100 chữ số</p>\n",
    "    <p> Ví dụ:</p>\n",
    "    <ul>\n",
    "        <li>Hợp lệ: 3123, 93</li>\n",
    "        <li>Không hợp lệ: -123, 000012, 123.32</li>\n",
    "    </ul>\n",
    "    <p><b>- Output:</b> Số nguyên m lớn nhất, chia hết cho 3, khác n 1 chữ số</p>\n",
    "    <p><b>Bài toán 1: Tìm các số chia hết cho 3</b></p>\n",
    "    <p>Dựa vào tính chất các số có tổng các chữ số chia hết cho 3 thì chia hết cho 3 và chỉ những số đó chia hết cho 3.\n",
    "    </p>\n",
    "    <p>Ví dụ: a = \"677\" , thay đổi 1 chữ số để có số chia hết cho 3, ta có : n = 6+7+7= 20 -> không chia hết cho 3</p>\n",
    "    <p>Ta lần lượt xét từng chữ số </p>\n",
    "    <ul>\n",
    "        <li>Xét a[0]:n=7+7=14 -> các số thoả điều kiện trên là 1, 4, 7 vì 14 + 1 =15, 14+4=18, 14+7 = 21 chia hết cho 3</li>\n",
    "        <li>Xét a[1]:n=6+7=13 -> các số thoả điều kiện trên là 2, 5, 8 vì 13 + 2 =15, 13+5=18, 13+8 = 21 chia hết cho 3</li>\n",
    "        <li>Xét a[2]:n=6+7=13 -> các số thoả điều kiện trên là 2, 5, 8 vì 13 + 2 =15, 13+5=18, 13+8 = 21 chia hết cho 3</li>\n",
    "        ==> có 9 số thoả điều kiện trên       \n",
    "    </ul>\n",
    "    <p><b>Qua ví dụ trên ta có công thức tổng quát:</b></p>\n",
    "    <p>\n",
    "        n là số cho trước <br>\n",
    "        sumN là tổng các chữ số của n <br>\n",
    "        Với i là biến duyệt từng chữ số trong n \n",
    "        <ul>\n",
    "            <li>sumN = sumN-i</li>\n",
    "            <li>for k in [0, 1, 2, 3, 4, 5, 6 ,7 ,8, 9]: sumN = sumN+k if (sumN%3 and k!=i) == 0 ACCEPT!</li>\n",
    "        </ul> \n",
    "    </p>\n",
    "    \n",
    "</body>\n",
    "</html>"
   ]
  },
  {
   "cell_type": "markdown",
   "metadata": {},
   "source": [
    "<p> Tuy nhiên ta có thể thực hiện chặn bớt các trường hợp cho Brute Force : </p>\n",
    "<ul>\n",
    "    <li>Sau quá trình tính sumN = sumN - i (trừ đi chữ số được thay thế trong n) ta có 3 trường hợp sau\n",
    "        <ul>\n",
    "            <li>sumN % 3 = 2 -> ta chỉ cần thế các số 7, 4, 1 để được số chia hết cho 3.</li>\n",
    "            <li>sumN % 3 = 1: 8, 5, 2</li>\n",
    "            <li>sumN % 3 = 0: 9, 6, 3</li>\n",
    "        </ul>\n",
    "    </li>\n",
    "    <li> Ngoài ra ta sẽ ưu tiên duyệt các số lớn nhất có thể thay thế trong các trường hợp trên như [7, 8, 9] rồi đến [4, 5, 6],... và duyệt n từ trái sang phải để đạt được số lớn nhất</li>\n",
    "</ul>"
   ]
  },
  {
   "cell_type": "markdown",
   "metadata": {},
   "source": [
    "<p><b>Bài toán 2: Tìm số lớn nhất </b></p>\n",
    "<p>Qua các số tìm được ở trên, việc tìm số lớn nhất là nhiệm vụ khá dễ dàng. Ta có thể áp dụng thuật toán sắp xếp như Selection Sort, Bubble Sort, Quick Sort để tìm được số lớn nhất</p>"
   ]
  },
  {
   "cell_type": "markdown",
   "metadata": {},
   "source": [
    "<h1>ALGORITHM DESIGN</h1>\n",
    "<p><b>- Input:</b> Số nguyên dương n có không quá 100 chữ số</p>\n",
    "<p>\n",
    "    <b>-Temp</b>\n",
    "    <ul>\n",
    "        <li>n: mảng chứa các chữ số của số nguyên dương n nhập vào</li>\n",
    "        <li>sumN: Tổng các chữ số của n</li>\n",
    "        <li>l: mảng chứa các số để thay thế cho 3 trường hợp đã nêu ở phần trên</li>\n",
    "        <li>tempAray: Mảng chứa các số lớn chia hết cho 3 </li>\n",
    "    </ul>\n",
    "</p>\n",
    "<p>\n",
    "    <b>- Các bước thực hiện</b>\n",
    "    <ol>\n",
    "        <li> Nhập vào số nguyên hợp lệ</li>\n",
    "        <li>duyệt item trong l:\n",
    "            <ul>\n",
    "                <li>duyệt i trong n</li>\n",
    "                <li>temp = n.copy()</li>\n",
    "                <li>check = (sumN-temp[i])%3</li>\n",
    "                <li>Nếu check ==2 (tức thược trường hợp chia hết cho 2)và temp[i]!=temp[0] (đảm bảo số được chọn khác n đúng 1 chữ số)thì thế temp[i] = item[0], thêm temp vào mảng tempArray, và tương tự</li>\n",
    "                <li>Nếu check ==1 và temp[i]!=temp[1] thì thế temp[i] = item[1], thêm temp vào mảng tempArray</li>\n",
    "                <li>Nếu check ==0 và temp[i]!=temp[2] thì thế temp[i] = item[2], thêm temp vào mảng tempArray</li>\n",
    "            </ul>\n",
    "        </li>\n",
    "        <li> Output: số lớn nhất có trong mảng tempArray</li>\n",
    "    </ol>\n",
    "</p>"
   ]
  },
  {
   "cell_type": "code",
   "execution_count": 4,
   "metadata": {},
   "outputs": [
    {
     "name": "stdout",
     "output_type": "stream",
     "text": [
      "123\n",
      "723\n"
     ]
    }
   ],
   "source": [
    "n = [int(i) for i in input()]\n",
    "sumN = sum(n)\n",
    "l = [[7, 8, 9], [4, 5, 6], [1, 2, 3]]\n",
    "\n",
    "tempArray = []\n",
    "\n",
    "for item in l: \n",
    "    for i in range(len(n)):\n",
    "    temp = n.copy()\n",
    "    check = (sumN-temp[i])%3\n",
    "    if check==2 and temp[i]!=item[0]:\n",
    "        temp[i]=item[0]\n",
    "        tempArray.append(temp)\n",
    "    elif check==1 and temp[i]!=item[1]:\n",
    "        temp[i]=item[1]\n",
    "        tempArray.append(temp)\n",
    "    elif check==0 and temp[i]!=item[2]:\n",
    "        temp[i]=item[2]\n",
    "        tempArray.append(temp)\n",
    "\n",
    "\n",
    "print(''.join([str(i) for i in max(tempArray)]))"
   ]
  }
 ],
 "metadata": {
  "kernelspec": {
   "display_name": "Python 3",
   "language": "python",
   "name": "python3"
  },
  "language_info": {
   "codemirror_mode": {
    "name": "ipython",
    "version": 3
   },
   "file_extension": ".py",
   "mimetype": "text/x-python",
   "name": "python",
   "nbconvert_exporter": "python",
   "pygments_lexer": "ipython3",
   "version": "3.7.6"
  }
 },
 "nbformat": 4,
 "nbformat_minor": 4
}
