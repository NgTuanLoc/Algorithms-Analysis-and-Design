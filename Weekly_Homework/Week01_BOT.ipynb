{
 "cells": [
  {
   "cell_type": "markdown",
   "metadata": {},
   "source": [
    "# Abstraction\n",
    "    Largest sum continous subarray in an n-element array.\n",
    "# Pattern Recognition\n",
    "    Dynamic Programming\n",
    "    Complexity: O(n)\n",
    "# Algorithm Design\n",
    "    Input: \n",
    "        n (integer): number of elements. (1<=n<=10^6)\n",
    "        a0, a1, ..., a(n-1) (interger): elements of array. (0<=|ai|<=10^9; i in {0..n-1})\n",
    "    Output:\n",
    "        p (integer): subarray's starting index.\n",
    "        q (integer): subarray's ending index.\n",
    "        result (integer): subarray's sum.\n",
    "    Temp:\n",
    "        i (integer): initial array's traversing index.\n",
    "        max_so_far (integer): subarray's maximum sum so far. (Initial: -10^9)\n",
    "        max_ending_here (integer): temporary subarray's sum. \n",
    "        s (integer): temporary starting index of subarray. (Initial: 0)\n",
    "    \n",
    "## Flowchart presenting Algorithm (Realistic non-all-negative case):\n",
    "        \n",
    "        "
   ]
  },
  {
   "cell_type": "markdown",
   "metadata": {},
   "source": [
    "![PTTKTT_BOT.png](PTTKTT_BOT.png)"
   ]
  },
  {
   "cell_type": "markdown",
   "metadata": {},
   "source": [
    "# Programming"
   ]
  },
  {
   "cell_type": "code",
   "execution_count": 1,
   "metadata": {},
   "outputs": [
    {
     "name": "stdout",
     "output_type": "stream",
     "text": [
      "16\n",
      "2 -4 5 -8 4 -1 -1 1 1 1 -2 2 4 -6 9 -4\n",
      "5  15  12\n"
     ]
    }
   ],
   "source": [
    "#Realistic sum when array is not all negative\n",
    "n = int(input())\n",
    "a = list(map(int, input().split()))\n",
    "\n",
    "def maxSubArraySum(a,size): \n",
    "  \n",
    "    max_so_far = -10**9\n",
    "    max_ending_here = 0\n",
    "    start = 0\n",
    "    end = 0\n",
    "    s = 0\n",
    "  \n",
    "    for i in range(0,size): \n",
    "  \n",
    "        max_ending_here += a[i] \n",
    "  \n",
    "        if max_so_far < max_ending_here: \n",
    "            max_so_far = max_ending_here \n",
    "            start = s \n",
    "            end = i \n",
    "  \n",
    "        if max_ending_here < 0: \n",
    "            max_ending_here = 0\n",
    "            s = i+1\n",
    "    return [start+1, end+1, max_so_far]\n",
    "\n",
    "\n",
    "p, q, result =  maxSubArraySum(a, n)\n",
    "\n",
    "print(\"{}  {}  {}\".format(p, q, result))"
   ]
  },
  {
   "cell_type": "code",
   "execution_count": 2,
   "metadata": {},
   "outputs": [
    {
     "name": "stdout",
     "output_type": "stream",
     "text": [
      "16\n",
      "2 -4 5 -8 4 -1 -1 1 1 1 -2 2 4 -6 9 -4\n",
      "5  15  12\n"
     ]
    }
   ],
   "source": [
    "#Sum when array is all negative \n",
    "def maxSubArraySum(a,size): \n",
    "      \n",
    "    max_so_far = a[0] \n",
    "    curr_max = a[0] \n",
    "    start = 0\n",
    "    end = 0\n",
    "    s = 0\n",
    "    \n",
    "    for i in range(1,size): \n",
    "        if curr_max+a[i]<a[i]:\n",
    "            curr_max=a[i]\n",
    "            s=i\n",
    "        else:\n",
    "            curr_max=curr_max+a[i]\n",
    "        if max_so_far<curr_max:\n",
    "            max_so_far=curr_max\n",
    "            start=s\n",
    "            end=i\n",
    "          \n",
    "    return [start+1, end+1, max_so_far]\n",
    "\n",
    "n = int(input())\n",
    "a = list(map(int, input().split()))\n",
    "\n",
    "\n",
    "\n",
    "p, q, result =  maxSubArraySum(a, n)\n",
    "print(\"{}  {}  {}\".format(p, q, result))"
   ]
  }
 ],
 "metadata": {
  "kernelspec": {
   "display_name": "Python 3",
   "language": "python",
   "name": "python3"
  },
  "language_info": {
   "codemirror_mode": {
    "name": "ipython",
    "version": 3
   },
   "file_extension": ".py",
   "mimetype": "text/x-python",
   "name": "python",
   "nbconvert_exporter": "python",
   "pygments_lexer": "ipython3",
   "version": "3.7.6"
  }
 },
 "nbformat": 4,
 "nbformat_minor": 4
}
